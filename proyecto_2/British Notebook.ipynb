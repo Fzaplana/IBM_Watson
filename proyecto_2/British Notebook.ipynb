{
    "cells": [
        {
            "cell_type": "code",
            "execution_count": 1,
            "metadata": {},
            "outputs": [
                {
                    "name": "stdout",
                    "output_type": "stream",
                    "text": "+--------------------+--------------------+---------+-------------------+------------------+------------------+--------------------+-------------------+\n|               Email|             Address|   Avatar|Avg. Session Length|       Time on App|   Time on Website|Length of Membership|Yearly Amount Spent|\n+--------------------+--------------------+---------+-------------------+------------------+------------------+--------------------+-------------------+\n|mstephenson@ferna...|    835 Frank Tunnel|     null|               null|              null|              null|                null|               null|\n|         Wrightmouth|      MI 82180-9605\"|   Violet|  34.49726772511229|12.655651149166752| 39.57766801952616|   4.082620632952961|  587.9510539684005|\n|   hduke@hotmail.com|  4547 Archer Common|     null|               null|              null|              null|                null|               null|\n|         Diazchester|      CA 06566-8576\"|DarkGreen| 31.926272026360156|11.109460728682564|37.268958868297744|    2.66403418213262|  392.2049334443264|\n|    pallen@yahoo.com|24645 Valerie Uni...|     null|               null|              null|              null|                null|               null|\n+--------------------+--------------------+---------+-------------------+------------------+------------------+--------------------+-------------------+\nonly showing top 5 rows\n\n"
                },
                {
                    "data": {
                        "text/plain": "configurationName = os_42eed50748204f88a5083e9f8cb6d249_configs\ncos = com.ibm.ibmos2spark.CloudObjectStorage@89f2ba1f\nspark = org.apache.spark.sql.SparkSession@255420d4\ndfData1 = [Email: string, Address: string ... 6 more fields]\n"
                    },
                    "metadata": {},
                    "output_type": "display_data"
                },
                {
                    "data": {
                        "text/plain": "getCredentials: ()scala.collection.mutable.HashMap[String,String]\n"
                    },
                    "metadata": {},
                    "output_type": "display_data"
                },
                {
                    "data": {
                        "text/plain": "[Email: string, Address: string ... 6 more fields]"
                    },
                    "execution_count": 1,
                    "metadata": {},
                    "output_type": "execute_result"
                }
            ],
            "source": "// The code was removed by Watson Studio for sharing."
        },
        {
            "cell_type": "code",
            "execution_count": null,
            "metadata": {},
            "outputs": [],
            "source": ""
        }
    ],
    "metadata": {
        "kernelspec": {
            "display_name": "Scala 2.11 with Spark",
            "language": "scala",
            "name": "scala"
        },
        "language_info": {
            "codemirror_mode": "text/x-scala",
            "file_extension": ".scala",
            "mimetype": "text/x-scala",
            "name": "scala",
            "pygments_lexer": "scala",
            "version": "2.11.12"
        }
    },
    "nbformat": 4,
    "nbformat_minor": 1
}